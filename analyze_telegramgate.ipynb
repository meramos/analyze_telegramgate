{
 "cells": [
  {
   "cell_type": "code",
   "execution_count": 2,
   "metadata": {},
   "outputs": [],
   "source": [
    "from tika import parser\n",
    "import re"
   ]
  },
  {
   "cell_type": "code",
   "execution_count": 3,
   "metadata": {},
   "outputs": [],
   "source": [
    "pdf_path = \"telegram_gate.pdf\""
   ]
  },
  {
   "cell_type": "code",
   "execution_count": 4,
   "metadata": {},
   "outputs": [],
   "source": [
    "raw = parser.from_file(pdf_path)"
   ]
  },
  {
   "cell_type": "code",
   "execution_count": 9,
   "metadata": {
    "scrolled": true
   },
   "outputs": [],
   "source": [
    "# print(raw['content'])"
   ]
  },
  {
   "cell_type": "markdown",
   "metadata": {},
   "source": [
    "The text contains a lot of new lines, time stamps, dates, 2 letter username accronyms, and the term \"Telegram Web\". Let's remove them."
   ]
  },
  {
   "cell_type": "code",
   "execution_count": 10,
   "metadata": {},
   "outputs": [],
   "source": [
    "pdf_content = raw['content']"
   ]
  },
  {
   "cell_type": "code",
   "execution_count": 11,
   "metadata": {},
   "outputs": [],
   "source": [
    "pdf_content = pdf_content.strip(\"\\n\")"
   ]
  },
  {
   "cell_type": "code",
   "execution_count": 12,
   "metadata": {},
   "outputs": [],
   "source": [
    "# Remove time stamps and dates\n",
    "\n",
    "regex = re.compile(r'([0-9][0-9]?:[0-9][0-9]( )?:[0-9][0-9]( )?(A|P)M)|([0-9][0-9]?\\/[0-9][0-9]?\\/[0-9][0-9][0-9][0-9])')\n",
    "\n",
    "pdf_content = re.sub(regex, \"\", pdf_content)\n",
    "\n",
    "# Remove 'Telegram Web'\n",
    "\n",
    "pdf_content = pdf_content.replace(\"Telegram Web\", \"\")"
   ]
  },
  {
   "cell_type": "code",
   "execution_count": 14,
   "metadata": {},
   "outputs": [
    {
     "name": "stdout",
     "output_type": "stream",
     "text": [
      "  \n",
      "\n",
      "WRF 12 members \n",
      "\n",
      "Friday, November 30, 2018 \n",
      "\n",
      "Ramon Rosario admin  \n",
      "RR \n",
      "\n",
      " \n",
      "\n",
      "https://web .telegram .org/#/im?p=s1209505337 _ 15413785455230905639 1/889 \n",
      "\n",
      "\n",
      "\n",
      " \n",
      "\n",
      "RR \n",
      "\n",
      "Edwin Miranda admin \n",
      "\n",
      "En PRINT! \n",
      "\n",
      "\n"
     ]
    }
   ],
   "source": [
    "print(pdf_content[0:200])"
   ]
  },
  {
   "cell_type": "code",
   "execution_count": 16,
   "metadata": {},
   "outputs": [],
   "source": [
    "# Create a list of sentences from document\n",
    "\n",
    "pdf_lines = pdf_content.split(\"\\n\")"
   ]
  },
  {
   "cell_type": "code",
   "execution_count": 17,
   "metadata": {},
   "outputs": [
    {
     "data": {
      "text/plain": [
       "['  ',\n",
       " '',\n",
       " 'WRF 12 members ',\n",
       " '',\n",
       " 'Friday, November 30, 2018 ',\n",
       " '',\n",
       " 'Ramon Rosario admin  ',\n",
       " 'RR ',\n",
       " '',\n",
       " ' ']"
      ]
     },
     "execution_count": 17,
     "metadata": {},
     "output_type": "execute_result"
    }
   ],
   "source": [
    "pdf_lines[0:10]"
   ]
  },
  {
   "cell_type": "code",
   "execution_count": 19,
   "metadata": {},
   "outputs": [],
   "source": [
    "# Remove empty string elements\n",
    "\n",
    "regex = re.compile(r'^( )*$')\n",
    "\n",
    "pdf_lines = [line for line in pdf_lines if not regex.match(line)]"
   ]
  },
  {
   "cell_type": "code",
   "execution_count": 20,
   "metadata": {},
   "outputs": [
    {
     "data": {
      "text/plain": [
       "['WRF 12 members ',\n",
       " 'Friday, November 30, 2018 ',\n",
       " 'Ramon Rosario admin  ',\n",
       " 'RR ',\n",
       " 'https://web .telegram .org/#/im?p=s1209505337 _ 15413785455230905639 1/889 ',\n",
       " 'RR ',\n",
       " 'Edwin Miranda admin ',\n",
       " 'En PRINT! ',\n",
       " 'Ramon Rosario admin ',\n",
       " 'R Rossello admin ']"
      ]
     },
     "execution_count": 20,
     "metadata": {},
     "output_type": "execute_result"
    }
   ],
   "source": [
    "pdf_lines[0:10]"
   ]
  },
  {
   "cell_type": "code",
   "execution_count": 21,
   "metadata": {},
   "outputs": [
    {
     "data": {
      "text/plain": [
       "31433"
      ]
     },
     "execution_count": 21,
     "metadata": {},
     "output_type": "execute_result"
    }
   ],
   "source": [
    "len(pdf_lines)"
   ]
  },
  {
   "cell_type": "code",
   "execution_count": 22,
   "metadata": {},
   "outputs": [],
   "source": [
    "# Get admin chat members by keeping unique lines which contain the word 'admin'\n",
    "\n",
    "admin_chat_members = set(line.strip() for line in pdf_lines if ' admin ' in line)"
   ]
  },
  {
   "cell_type": "code",
   "execution_count": 23,
   "metadata": {},
   "outputs": [
    {
     "data": {
      "text/plain": [
       "{'Alfonso Orona admin',\n",
       " 'Alfonso Orona admin edited',\n",
       " 'Carlos Bermudez admin',\n",
       " 'Ch Sobri admin',\n",
       " 'Ch Sobri via @gif admin',\n",
       " 'Edwin Miranda admin',\n",
       " 'Edwin Miranda admin  --~ Edwin Miranda',\n",
       " 'Edwin Miranda admin --Super! Anthony O. Maceira layas Photo',\n",
       " 'Edwin Miranda admin --~~ @ - Carlos Bermudez Photo',\n",
       " 'Edwin Miranda admin -~-',\n",
       " 'Edwin Miranda via @gif admin',\n",
       " 'F do admin',\n",
       " 'Fdo admin',\n",
       " 'Fdo via@gif admin',\n",
       " 'R Rossello admin',\n",
       " 'R Rossello admin edited',\n",
       " 'R Russello admin',\n",
       " \"Rafael Cerame D'Acosta admin\",\n",
       " 'Ramon Rosario admin'}"
      ]
     },
     "execution_count": 23,
     "metadata": {},
     "output_type": "execute_result"
    }
   ],
   "source": [
    "admin_chat_members"
   ]
  },
  {
   "cell_type": "code",
   "execution_count": 24,
   "metadata": {},
   "outputs": [],
   "source": [
    "# Clean the admin chat members list by removing ' admin'\n",
    "\n",
    "admin_chat_members_cleaned = set()\n",
    "\n",
    "for element in admin_chat_members:\n",
    "    \n",
    "    index = element.find(' admin')\n",
    "    \n",
    "    admin_chat_members_cleaned.add(element[:index])"
   ]
  },
  {
   "cell_type": "code",
   "execution_count": 25,
   "metadata": {},
   "outputs": [],
   "source": [
    "admin_chat_members = admin_chat_members_cleaned"
   ]
  },
  {
   "cell_type": "code",
   "execution_count": 26,
   "metadata": {},
   "outputs": [
    {
     "data": {
      "text/plain": [
       "{'Alfonso Orona',\n",
       " 'Carlos Bermudez',\n",
       " 'Ch Sobri',\n",
       " 'Ch Sobri via @gif',\n",
       " 'Edwin Miranda',\n",
       " 'Edwin Miranda via @gif',\n",
       " 'F do',\n",
       " 'Fdo',\n",
       " 'Fdo via@gif',\n",
       " 'R Rossello',\n",
       " 'R Russello',\n",
       " \"Rafael Cerame D'Acosta\",\n",
       " 'Ramon Rosario'}"
      ]
     },
     "execution_count": 26,
     "metadata": {},
     "output_type": "execute_result"
    }
   ],
   "source": [
    "admin_chat_members"
   ]
  },
  {
   "cell_type": "code",
   "execution_count": 27,
   "metadata": {},
   "outputs": [
    {
     "data": {
      "text/plain": [
       "['R Russello',\n",
       " 'R Rossello',\n",
       " 'Fdo',\n",
       " \"Rafael Cerame D'Acosta\",\n",
       " 'F do',\n",
       " 'Ch Sobri',\n",
       " 'Alfonso Orona',\n",
       " 'Edwin Miranda',\n",
       " 'Carlos Bermudez',\n",
       " 'Ramon Rosario']"
      ]
     },
     "execution_count": 27,
     "metadata": {},
     "output_type": "execute_result"
    }
   ],
   "source": [
    "# Remove the elements in admin_chat_members which contain the text 'gif', they are repeated\n",
    "\n",
    "admin_chat_members = [member for member in admin_chat_members if not('gif' in member)]\n",
    "admin_chat_members"
   ]
  },
  {
   "cell_type": "code",
   "execution_count": 28,
   "metadata": {},
   "outputs": [],
   "source": [
    "# Two elements in the admin_chat_members list seem to be typos, remove them\n",
    "\n",
    "admin_chat_members.remove(\"R Russello\") # assuming it's 'R Rosello' read incorrectly by Tika\n",
    "admin_chat_members.remove(\"Fdo\") # assuming it's 'F do' read incorrectly by Tika"
   ]
  },
  {
   "cell_type": "code",
   "execution_count": 29,
   "metadata": {
    "scrolled": true
   },
   "outputs": [
    {
     "data": {
      "text/plain": [
       "['R Rossello',\n",
       " \"Rafael Cerame D'Acosta\",\n",
       " 'F do',\n",
       " 'Ch Sobri',\n",
       " 'Alfonso Orona',\n",
       " 'Edwin Miranda',\n",
       " 'Carlos Bermudez',\n",
       " 'Ramon Rosario']"
      ]
     },
     "execution_count": 29,
     "metadata": {},
     "output_type": "execute_result"
    }
   ],
   "source": [
    "admin_chat_members"
   ]
  },
  {
   "cell_type": "code",
   "execution_count": 30,
   "metadata": {},
   "outputs": [
    {
     "data": {
      "text/plain": [
       "8"
      ]
     },
     "execution_count": 30,
     "metadata": {},
     "output_type": "execute_result"
    }
   ],
   "source": [
    "len(admin_chat_members)"
   ]
  },
  {
   "cell_type": "markdown",
   "metadata": {},
   "source": [
    "According to https://www.latinorebels.com/2019/07/09/telegramgate/, some of the visible members in the chat were: \n",
    "1. Rosselló\n",
    "* Chief of Staff Ricardo Llerandi \n",
    "* the Governor’s former legal advisor Alfonso Orona\n",
    "* former Public Affairs Secretary for La Fortaleza Ramón Rosario\n",
    "* government communications advisor Carlos Bermudez\n",
    "* government communications advisor Rafael Cerame D’Acosta\n",
    "* publicist and statehood party donor Edwin Miranda\n",
    "* executive director of the Financial Advisory Authority and Fiscal Agency and representative to the Governor on the Financial Oversight Board Christian Sobrino\n",
    "* A person identified only as “F do” (possibly Fernando)."
   ]
  },
  {
   "cell_type": "markdown",
   "metadata": {},
   "source": [
    "From going through the PDF document manually, I found that the non-admin members in the chat are:\n",
    "* Raul Maldonado\n",
    "* Anthony O. Maceira Zayas\n",
    "* Ricardo Llerandi\n",
    "* LuisG\n",
    "  \n",
    "How do we find this without searching manually? Chat members appear in bold, could we have Tika keep text formatting?"
   ]
  },
  {
   "cell_type": "markdown",
   "metadata": {},
   "source": [
    "Now that we know whom the admin chat members are, let's create their acronyms, search for them in pdf_lines, and remove them."
   ]
  },
  {
   "cell_type": "code",
   "execution_count": 31,
   "metadata": {},
   "outputs": [],
   "source": [
    "# Create admin member accronyms\n",
    "\n",
    "accronyms = set()\n",
    "\n",
    "for admin_chat_member in admin_chat_members:\n",
    "    \n",
    "    names = admin_chat_member.split(\" \")\n",
    "    \n",
    "    accronym = \"\"\n",
    "    for name in names:\n",
    "        accronym += name[0].upper()\n",
    "    \n",
    "    accronyms.add(accronym)"
   ]
  },
  {
   "cell_type": "code",
   "execution_count": 32,
   "metadata": {},
   "outputs": [
    {
     "data": {
      "text/plain": [
       "{'AO', 'CB', 'CS', 'EM', 'FD', 'RCD', 'RR'}"
      ]
     },
     "execution_count": 32,
     "metadata": {},
     "output_type": "execute_result"
    }
   ],
   "source": [
    "accronyms"
   ]
  },
  {
   "cell_type": "code",
   "execution_count": 33,
   "metadata": {},
   "outputs": [
    {
     "data": {
      "text/plain": [
       "'CS|AO|CB|FD|EM|RR|RCD'"
      ]
     },
     "execution_count": 33,
     "metadata": {},
     "output_type": "execute_result"
    }
   ],
   "source": [
    "# Build regular expression for identifying text containing only an accronym and spaces\n",
    "\n",
    "regular_exp = \"\"\n",
    "\n",
    "for accronym in accronyms:\n",
    "    \n",
    "    regular_exp += accronym + \"|\"\n",
    "    \n",
    "regular_exp = regular_exp[:len(regular_exp)-1]\n",
    "\n",
    "regular_exp"
   ]
  },
  {
   "cell_type": "code",
   "execution_count": 34,
   "metadata": {},
   "outputs": [],
   "source": [
    "# Remove accronyms from pdf_lines\n",
    "\n",
    "regex = re.compile(r'^( )*(%s)( )*$' % regular_exp)\n",
    "\n",
    "pdf_lines = [line for line in pdf_lines if not regex.match(line)]"
   ]
  },
  {
   "cell_type": "code",
   "execution_count": 36,
   "metadata": {},
   "outputs": [
    {
     "data": {
      "text/plain": [
       "['WRF 12 members ',\n",
       " 'Friday, November 30, 2018 ',\n",
       " 'Ramon Rosario admin  ',\n",
       " 'https://web .telegram .org/#/im?p=s1209505337 _ 15413785455230905639 1/889 ',\n",
       " 'Edwin Miranda admin ',\n",
       " 'En PRINT! ',\n",
       " 'Ramon Rosario admin ',\n",
       " 'R Rossello admin ',\n",
       " 'lComo se col6 eso? ',\n",
       " 'https ://web .telegram .org/#/im?p=s1209505337 _ 15413785455230905639 ']"
      ]
     },
     "execution_count": 36,
     "metadata": {},
     "output_type": "execute_result"
    }
   ],
   "source": [
    "pdf_lines[0:10]"
   ]
  },
  {
   "cell_type": "code",
   "execution_count": 37,
   "metadata": {},
   "outputs": [],
   "source": [
    "# Store messages per user into admin_chat_member_messages dictionary, \n",
    "# and store the conversation in the list conversation, which will be \n",
    "# a list of dictionaries where the dictionary will contain the keys \n",
    "# 'chat_member' and 'message'\n",
    "\n",
    "admin_chat_member_messages = dict()\n",
    "\n",
    "for chat_member in admin_chat_members:\n",
    "    admin_chat_member_messages[chat_member] = []\n",
    "    \n",
    "conversation = []\n",
    "\n",
    "current_chat_member = None\n",
    "\n",
    "new = False\n",
    "\n",
    "for line in pdf_lines:\n",
    "        \n",
    "    for chat_member in admin_chat_members:\n",
    "        if chat_member in line:\n",
    "            # don't add chat member element to messages/conversation\n",
    "            current_chat_member = chat_member\n",
    "            new = True\n",
    "            break\n",
    "            \n",
    "    if new:\n",
    "        new = False\n",
    "        continue\n",
    "       \n",
    "    if (current_chat_member != None) and not(current_chat_member in line):\n",
    "        admin_chat_member_messages[current_chat_member].append(line)\n",
    "        conversation.append({\n",
    "            \"chat_member\": current_chat_member,\n",
    "            \"message\": line\n",
    "        })"
   ]
  },
  {
   "cell_type": "code",
   "execution_count": 38,
   "metadata": {
    "scrolled": false
   },
   "outputs": [
    {
     "data": {
      "text/plain": [
       "dict_keys(['R Rossello', \"Rafael Cerame D'Acosta\", 'F do', 'Ch Sobri', 'Alfonso Orona', 'Edwin Miranda', 'Carlos Bermudez', 'Ramon Rosario'])"
      ]
     },
     "execution_count": 38,
     "metadata": {},
     "output_type": "execute_result"
    }
   ],
   "source": [
    "admin_chat_member_messages.keys()"
   ]
  },
  {
   "cell_type": "code",
   "execution_count": 39,
   "metadata": {},
   "outputs": [
    {
     "data": {
      "text/plain": [
       "['lComo se col6 eso? ',\n",
       " 'https ://web .telegram .org/#/im?p=s1209505337 _ 15413785455230905639 ',\n",
       " '2/889 ',\n",
       " 'https ://web .telegram .org/#/im?p=s1209505337 _ 15413785455230905639 ',\n",
       " '3/889 ',\n",
       " 'https://twitter.com/davilacolon/status/1068463010967158784? ',\n",
       " '5=12 ',\n",
       " '(https://twitter .com/davilacolon/status/1068463010967158784? ',\n",
       " '5=12) ',\n",
       " 'Twitter ']"
      ]
     },
     "execution_count": 39,
     "metadata": {},
     "output_type": "execute_result"
    }
   ],
   "source": [
    "admin_chat_member_messages[\"R Rossello\"][:10]"
   ]
  },
  {
   "cell_type": "code",
   "execution_count": 41,
   "metadata": {},
   "outputs": [
    {
     "data": {
      "text/plain": [
       "[{'chat_member': 'Ramon Rosario',\n",
       "  'message': 'https://web .telegram .org/#/im?p=s1209505337 _ 15413785455230905639 1/889 '},\n",
       " {'chat_member': 'Edwin Miranda', 'message': 'En PRINT! '},\n",
       " {'chat_member': 'R Rossello', 'message': 'lComo se col6 eso? '},\n",
       " {'chat_member': 'R Rossello',\n",
       "  'message': 'https ://web .telegram .org/#/im?p=s1209505337 _ 15413785455230905639 '},\n",
       " {'chat_member': 'R Rossello', 'message': '2/889 '},\n",
       " {'chat_member': 'Alfonso Orona', 'message': 'Buen dfa!!! '},\n",
       " {'chat_member': 'Alfonso Orona',\n",
       "  'message': 'Cifra de Asesinatos para hoy viernes, 30 de noviembre de 2018 '},\n",
       " {'chat_member': 'Alfonso Orona', 'message': '2018-571 '},\n",
       " {'chat_member': 'Alfonso Orona', 'message': '2017-629 '},\n",
       " {'chat_member': 'Alfonso Orona', 'message': '-58 '}]"
      ]
     },
     "execution_count": 41,
     "metadata": {},
     "output_type": "execute_result"
    }
   ],
   "source": [
    "conversation[0:10]"
   ]
  },
  {
   "cell_type": "code",
   "execution_count": 42,
   "metadata": {},
   "outputs": [
    {
     "data": {
      "text/plain": [
       "25550"
      ]
     },
     "execution_count": 42,
     "metadata": {},
     "output_type": "execute_result"
    }
   ],
   "source": [
    "len(conversation)"
   ]
  },
  {
   "cell_type": "code",
   "execution_count": 44,
   "metadata": {},
   "outputs": [
    {
     "name": "stdout",
     "output_type": "stream",
     "text": [
      "R Rossello sent 3280 messages\n",
      "Rafael Cerame D'Acosta sent 1606 messages\n",
      "F do sent 936 messages\n",
      "Ch Sobri sent 2384 messages\n",
      "Alfonso Orona sent 2815 messages\n",
      "Edwin Miranda sent 4848 messages\n",
      "Carlos Bermudez sent 4911 messages\n",
      "Ramon Rosario sent 4770 messages\n"
     ]
    }
   ],
   "source": [
    "for k,v in admin_chat_member_messages.items():\n",
    "    \n",
    "    print(\"{user} sent {num_msg} messages\".format(user=k,num_msg=len(v)))"
   ]
  }
 ],
 "metadata": {
  "kernelspec": {
   "display_name": "Python 3",
   "language": "python",
   "name": "python3"
  },
  "language_info": {
   "codemirror_mode": {
    "name": "ipython",
    "version": 3
   },
   "file_extension": ".py",
   "mimetype": "text/x-python",
   "name": "python",
   "nbconvert_exporter": "python",
   "pygments_lexer": "ipython3",
   "version": "3.6.8"
  }
 },
 "nbformat": 4,
 "nbformat_minor": 2
}
